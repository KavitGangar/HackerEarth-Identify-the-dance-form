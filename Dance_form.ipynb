{
  "nbformat": 4,
  "nbformat_minor": 0,
  "metadata": {
    "colab": {
      "name": "Dance_Forms.ipynb",
      "provenance": [],
      "collapsed_sections": []
    },
    "kernelspec": {
      "name": "python3",
      "display_name": "Python 3"
    }
  },
  "cells": [
    {
      "cell_type": "code",
      "metadata": {
        "id": "Kmae6HZYLVGz"
      },
      "source": [
        "import numpy as np\n",
        "import pandas as pd\n",
        "import cv2\n",
        "import os\n",
        "import tensorflow as tf\n",
        "from google.colab.patches import cv2_imshow\n",
        "import matplotlib.pyplot as plt\n",
        "import matplotlib.image as mpimg\n",
        "from sklearn import preprocessing\n",
        "from sklearn.model_selection import train_test_split\n",
        "from keras.models import Sequential\n",
        "from keras.layers import Conv2D, MaxPooling2D,GlobalAveragePooling2D,MaxPool2D\n",
        "from keras.layers import Activation, Dropout, Flatten, Dense\n",
        "from keras.utils import to_categorical\n",
        "import seaborn as sns\n",
        "from keras.models import Model\n",
        "from keras.applications.vgg16 import VGG16\n",
        "from keras.applications.vgg19 import VGG19\n",
        "from keras.applications.inception_v3 import InceptionV3\n",
        "from keras import Input\n",
        "from keras.preprocessing.image import ImageDataGenerator\n"
      ],
      "execution_count": null,
      "outputs": []
    },
    {
      "cell_type": "code",
      "metadata": {
        "id": "MowC03pPLbw1"
      },
      "source": [
        "#Loading datasets\n",
        "\n",
        "data=pd.read_csv('/content/drive/My Drive/Hackathon Dataset/train.csv')\n",
        "test=pd.read_csv('/content/drive/My Drive/Hackathon Dataset/test.csv')\n",
        "#test"
      ],
      "execution_count": null,
      "outputs": []
    },
    {
      "cell_type": "code",
      "metadata": {
        "id": "6gNBBKX0LeG1"
      },
      "source": [
        "#EDA on the dataset\n",
        "\n",
        "detected_counts = data.target.value_counts()\n",
        "plt.figure(figsize = (12,6))\n",
        "sns.barplot(detected_counts.index, detected_counts.values, alpha = 0.9)\n",
        "plt.xticks(rotation = 'vertical')\n",
        "plt.xlabel('Detected classes', fontsize =12)\n",
        "plt.ylabel('Counts', fontsize = 12)\n",
        "plt.show()"
      ],
      "execution_count": null,
      "outputs": []
    },
    {
      "cell_type": "code",
      "metadata": {
        "id": "F_9tLfQkLgFr"
      },
      "source": [
        "#Loading images from the training data and resizing to store the list of pixels and the label\n",
        "\n",
        "dir='/content/drive/My Drive/Hackathon Dataset/train'\n",
        "images = []\n",
        "labels = []\n",
        "for imagePath,lab in zip(data.Image,data.target):\n",
        "    image=cv2.imread(os.path.join(dir,imagePath))\n",
        "    image=cv2.resize(image,(256,256))\n",
        "    #image=img_to_array(image)\n",
        "    images.append(image)\n",
        "\n",
        "    labels.append(lab)"
      ],
      "execution_count": null,
      "outputs": []
    },
    {
      "cell_type": "code",
      "metadata": {
        "id": "hsGqCfL2Lhrh"
      },
      "source": [
        "#Loading images from the test data\n",
        "\n",
        "dir='/content/drive/My Drive/Hackathon Dataset/test'\n",
        "imagesT=[]\n",
        "for imagepath in test.Image :\n",
        "    image=cv2.imread(os.path.join(dir,imagepath))\n",
        "    image=cv2.resize(image,(256,256))\n",
        "    imagesT.append(image)\n",
        "\n",
        "imagesT = np.array(imagesT, dtype=\"float\") / 255.0"
      ],
      "execution_count": null,
      "outputs": []
    },
    {
      "cell_type": "code",
      "metadata": {
        "id": "EWWdMg6BLjm_"
      },
      "source": [
        "#Converting the labels using label encoder\n",
        "\n",
        "le=preprocessing.LabelEncoder()\n",
        "le.fit([\"manipuri\",\"bharatanatyam\",\"odissi\",\"kathakali\",\"kathak\",\"sattriya\",\"kuchipudi\",\"mohiniyattam\"])\n",
        "label=le.transform(labels)\n",
        "images = np.array(images, dtype=\"float\") / 255.0\n",
        "label=np.array(label)\n",
        "#(X_train, X_test, Y_train, Y_test) = train_test_split(images,label, test_size=0.001, random_state=42)\n",
        "#Y_train=to_categorical(Y_train)\n",
        "#Y_test=to_categorical(Y_test)\n",
        "label=to_categorical(label)\n",
        "X_train=images\n",
        "Y_train=label"
      ],
      "execution_count": null,
      "outputs": []
    },
    {
      "cell_type": "code",
      "metadata": {
        "id": "LLChe2L0Llm3"
      },
      "source": [
        "#Creating ImageDataGenerator object using different parameters and fitting on the train data inorder to dynamically generate additional images while training the model\n",
        "\n",
        "image_gen = ImageDataGenerator(\n",
        "    #featurewise_center=True,\n",
        "    #featurewise_std_normalization=True,\n",
        "    #rescale=1./255,\n",
        "    zoom_range=0.2,\n",
        "    rotation_range=40,\n",
        "    width_shift_range=.05,\n",
        "    height_shift_range=.075,\n",
        "    horizontal_flip=True,\n",
        "    #brightness_range=[0.5,0.9]\n",
        ")\n",
        "#training the image preprocessing\n",
        "image_gen.fit(X_train)"
      ],
      "execution_count": null,
      "outputs": []
    },
    {
      "cell_type": "code",
      "metadata": {
        "id": "cgCmYuQULoOG"
      },
      "source": [
        "#Creating a CNN model using pre-trained VGG16 \n",
        "\n",
        "#new_input = Input(shape=(128, 128, 3))\n",
        "model=Sequential()\n",
        "model.add(VGG16(include_top=False, input_shape=(256,256, 3)))\n",
        "model.add(Flatten())\n",
        "model.add(Dense(1024,activation='relu'))\n",
        "#model.add(Dropout(0.2))\n",
        "model.add(Dense(1024,activation='relu'))\n",
        "#model.add(Dense(512,activation='relu'))\n",
        "#model.add(Dropout(0.2))\n",
        "model.add(Dense(8,activation='softmax'))\n",
        "model.layers[0].trainable=False\n",
        "#opt = tf.keras.optimizers.RMSprop(learning_rate=1e-3,momentum=0.9)\n",
        "model.compile(loss='categorical_crossentropy',\n",
        "              optimizer='adam',\n",
        "              metrics=['accuracy'])\n",
        "#model.summary()\n",
        "\n",
        "#model.layers[0].trainable=False\n",
        "model.summary()"
      ],
      "execution_count": null,
      "outputs": []
    },
    {
      "cell_type": "code",
      "metadata": {
        "id": "NzOLiW9dLqfU"
      },
      "source": [
        "#Training the model\n",
        "\n",
        "model.fit_generator(image_gen.flow(X_train, Y_train,batch_size=32),\n",
        "                     epochs=35)"
      ],
      "execution_count": null,
      "outputs": []
    },
    {
      "cell_type": "code",
      "metadata": {
        "id": "fWhCkaL8LsnP"
      },
      "source": [
        "#Predicting labels on the test dataset and saving the predictions in the csv file\n",
        "\n",
        "ynew=model.predict_classes(imagesT)\n",
        "final=le.inverse_transform(ynew)\n",
        "final_ans=test.iloc[:,0]\n",
        "final_ans=pd.DataFrame(final_ans)\n",
        "final_ans.insert(1,\"target\",final)\n",
        "final_ans.to_csv('ouputhopeful7.csv')"
      ],
      "execution_count": null,
      "outputs": []
    }
  ]
}